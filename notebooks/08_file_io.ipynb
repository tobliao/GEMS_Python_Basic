{
 "cells": [
  {
   "cell_type": "markdown",
   "metadata": {},
   "source": [
    "## File Input and Output"
   ]
  },
  {
   "cell_type": "markdown",
   "metadata": {},
   "source": [
    "### Introduction"
   ]
  },
  {
   "cell_type": "markdown",
   "metadata": {},
   "source": [
    "Reading and writing files is common in programming. Python makes these operations easy. You can read both text and binary files. Reading and writing files.\n",
    "\n",
    "![rw_file_mode](src/rw_file_mode.png \"rw_file_mode\")\n",
    "\n",
    "If you are dealing with text files, typically you will use 'r' as the mode to read a\n",
    "file, and 'w' to write a file"
   ]
  },
  {
   "cell_type": "markdown",
   "metadata": {},
   "source": [
    "### Reading files"
   ]
  },
  {
   "cell_type": "code",
   "execution_count": 4,
   "metadata": {},
   "outputs": [
    {
     "name": "stdout",
     "output_type": "stream",
     "text": [
      "id,first_name,last_name,date_of_birth,ethnicity,gender,status,entry_academic_period\n",
      "1,John,Doe,01/2000,Hispanic,M,FT,Fall 2008\n",
      "2,Jane,Smith,05/2001,Hispanic,F,TRANSFER,Fall 2006\n",
      "3,Sarah,Thomas,21/2002,Hispanic,M,FTFT,Fall 2006\n",
      "4,Frank,Brown,13/2002,Race/ethnicity unknown,M,FTFT,Fall 2006\n",
      "5,Mike,Davis,31/2001,White,F,FTFT,Fall 2007\n",
      "6,Jennifer,Wilson,01/2002,Asian,M,TRANSFER,Fall 2006\n",
      "7,Jessica,Garcia,01/2000,White,F,FTFT,Fall 2007\n",
      "8,Fred,Clark,17/1999,Hispanic,F,FTGRAD,Fall 2010\n",
      "9,Bob,Lopez,04/1998,White,F,FTFT,Fall 2007\n"
     ]
    }
   ],
   "source": [
    "file_path = \"src/students.csv\"\n",
    "file = open(file_path, 'r')\n",
    "for line in file:\n",
    "    print(line.strip())\n",
    "file.close()"
   ]
  },
  {
   "cell_type": "markdown",
   "metadata": {},
   "source": [
    "The `with` statement is for obtaining a context manager that will be used as an execution context for the commands inside the `with`. Context managers guarantee that certain operations are done when exiting the context.\n",
    "\n",
    "\n",
    "In this case, the context manager guarantees that `simple_file.close()` is implicitly called when exiting the context. This is a way to make developers life easier: you don't have to remember to explicitly close the file you openened nor be worried about an exception occuring while the file is open. Unclosed file maybe a source of a resource leak. Thus, prefer using `with open()` structure always with file I/O."
   ]
  },
  {
   "cell_type": "code",
   "execution_count": 6,
   "metadata": {},
   "outputs": [
    {
     "name": "stdout",
     "output_type": "stream",
     "text": [
      "id,first_name,last_name,date_of_birth,ethnicity,gender,status,entry_academic_period\n",
      "1,John,Doe,01/2000,Hispanic,M,FT,Fall 2008\n",
      "2,Jane,Smith,05/2001,Hispanic,F,TRANSFER,Fall 2006\n",
      "3,Sarah,Thomas,21/2002,Hispanic,M,FTFT,Fall 2006\n",
      "4,Frank,Brown,13/2002,Race/ethnicity unknown,M,FTFT,Fall 2006\n",
      "5,Mike,Davis,31/2001,White,F,FTFT,Fall 2007\n",
      "6,Jennifer,Wilson,01/2002,Asian,M,TRANSFER,Fall 2006\n",
      "7,Jessica,Garcia,01/2000,White,F,FTFT,Fall 2007\n",
      "8,Fred,Clark,17/1999,Hispanic,F,FTGRAD,Fall 2010\n",
      "9,Bob,Lopez,04/1998,White,F,FTFT,Fall 2007\n"
     ]
    }
   ],
   "source": [
    "file_path = \"src/students.csv\"\n",
    "with open(file_path, \"r\") as file:\n",
    "    for line in file:\n",
    "        print(line.strip())"
   ]
  },
  {
   "cell_type": "markdown",
   "metadata": {},
   "source": [
    "### Writing files"
   ]
  },
  {
   "cell_type": "code",
   "execution_count": 12,
   "metadata": {},
   "outputs": [],
   "source": [
    "file_path = \"src/students_w.csv\"\n",
    "header = [\"id\",\"first_name\",\"last_name\",\"date_of_birth\",\"ethnicity\"]\n",
    "content = [\n",
    "    [1,'John','Doe','01/2000','Hispanic'],\n",
    "    [2,'Jane','Smith','05/2001','Hispanic'],\n",
    "    [3,'Sarah','Thomas','21/2002','Hispanic'],\n",
    "    [4,'Frank','Brown','13/2002','Race/ethnicity unknown'],\n",
    "    [5,'Mike','Davis','31/2001','White']\n",
    "]\n",
    "\n",
    "with open(file_path, \"w\") as file:\n",
    "    for item in header:\n",
    "        file.write(\"{},\".format(item))"
   ]
  },
  {
   "cell_type": "markdown",
   "metadata": {},
   "source": [
    "This is tough the write each of the row with the iteration from each row."
   ]
  },
  {
   "cell_type": "code",
   "execution_count": 15,
   "metadata": {},
   "outputs": [],
   "source": [
    "import csv\n",
    "\n",
    "with open(file_path, 'w') as f: \n",
    "    write = csv.writer(f) \n",
    "    write.writerow(header) \n",
    "    # for row in content:\n",
    "    #     write.writerow(row) \n",
    "    write.writerows(content) "
   ]
  },
  {
   "cell_type": "markdown",
   "metadata": {},
   "source": [
    "### [FYI] Working with paths"
   ]
  },
  {
   "cell_type": "code",
   "execution_count": 1,
   "metadata": {},
   "outputs": [
    {
     "name": "stdout",
     "output_type": "stream",
     "text": [
      "current file: /Users/tobliao/Documents/workspace/GEMS_Python_Basic/notebooks/src\n",
      "current directory: /Users/tobliao/Documents/workspace/GEMS_Python_Basic/notebooks\n",
      "data directory: /Users/tobliao/Documents/workspace/GEMS_Python_Basic/src\n"
     ]
    }
   ],
   "source": [
    "from pathlib import Path\n",
    "\n",
    "dir_path = Path('src').resolve()\n",
    "file_path = Path('src/students_w.csv').resolve()\n",
    "\n",
    "print(f\"current file: {dir_path}\")\n",
    "# Note: in .py files you can get the path of current file by Path(__file__)\n",
    "\n",
    "current_dir = dir_path.parent\n",
    "print(f\"current directory: {current_dir}\")\n",
    "\n",
    "src_dir = current_dir.parent / \"src\"\n",
    "print(f\"data directory: {src_dir}\")"
   ]
  },
  {
   "cell_type": "markdown",
   "metadata": {},
   "source": [
    "#### Checking if path exists"
   ]
  },
  {
   "cell_type": "code",
   "execution_count": 2,
   "metadata": {},
   "outputs": [
    {
     "name": "stdout",
     "output_type": "stream",
     "text": [
      "exists: True\n",
      "is directory: True\n",
      "is file: True\n"
     ]
    }
   ],
   "source": [
    "\n",
    "print(f\"exists: {dir_path.exists()}\")\n",
    "print(f\"is directory: {dir_path.is_dir()}\")\n",
    "print(f\"is file: {file_path.is_file()}\")"
   ]
  }
 ],
 "metadata": {
  "kernelspec": {
   "display_name": "Python 3 (ipykernel)",
   "language": "python",
   "name": "python3"
  },
  "language_info": {
   "codemirror_mode": {
    "name": "ipython",
    "version": 3
   },
   "file_extension": ".py",
   "mimetype": "text/x-python",
   "name": "python",
   "nbconvert_exporter": "python",
   "pygments_lexer": "ipython3",
   "version": "3.11.3"
  }
 },
 "nbformat": 4,
 "nbformat_minor": 4
}

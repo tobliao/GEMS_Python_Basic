{
 "cells": [
  {
   "cell_type": "markdown",
   "metadata": {},
   "source": [
    "# What is Python and how is it recongnized by the machine?\n",
    "\n",
    "“Python is commonly classified as an interpreted language. Another\n",
    "term used to describe an interpreted language is scripting language.\n",
    "To run a computer program on the CPU, the program must be in a\n",
    "format that the CPU understands, namely machine code. Interpreted\n",
    "languages do not compile directly to machine code, instead, there is\n",
    "a layer above, an interpreter that performs this function.”\n"
   ]
  },
  {
   "cell_type": "markdown",
   "metadata": {},
   "source": [
    "![compiled_interpreted_figure](src/compiled_interpreted_figure.png \"compiled_interpreted_figure\")"
   ]
  },
  {
   "cell_type": "markdown",
   "metadata": {},
   "source": [
    "# What Python can do in Practice?\n",
    "\n",
    "### 1. Web Development (What we will do in this class)\n",
    "\n",
    "Developing web applications with Python is one of the most in-demand skills, with a lot of opportunities for you out there. In this field, you’ll find several useful Python frameworks, libraries, and tools for developing cool web applications, APIs, and more.\n",
    "\n",
    "### 2. CLI Development\n",
    "\n",
    "Another field in which Python shines is command-line interface (CLI) application development. CLI applications are everywhere and allow you to automate repetitive and boring tasks in your day-to-day work by creating small and large tools for your command line.\n",
    "\n",
    "### 3. GUI Development\n",
    "\n",
    "Creating traditional graphical user interface (GUI) applications for desktop environments is also an attractive option in Python. If you’re interested in building this kind of application, then Python has you covered with a wide range of GUI libraries, frameworks, and toolkits.\n",
    "\n",
    "### 4. Game Development\n",
    "\n",
    "Computer games have played an important role in programming. Many people get into programming because they love games and want to re-create their favorite games or build their own. Developing computer games can be a fun and rewarding adventure, in which you can live the great experience of playing the game you just created.\n",
    "\n",
    "### 5. Machine Learning\n",
    "\n",
    "Machine learning can be the first step for someone interested in artificial intelligence. Machine learning studies algorithms that learn through experience. These algorithms build models based on samples of training data to make predictions and decisions.\n",
    "\n",
    "### 6. Scientific Computing\n",
    "\n",
    "Another field in which Python plays a significant role is scientific computing. Scientists use advanced computing capabilities available through supercomputers, clusters of computers, and even desktop and laptop computers to understand and solve complex problems.\n",
    "\n",
    "### 7. Data Analysis and Visualization\n",
    "\n",
    "Data analysis is a process of collecting, inspecting, cleansing, transforming, and modeling data to discover useful information, make predictions, arrive at conclusions, support decision-making processes, and more. Data analysis is closely related to data visualization, which deals with the graphical representation of data.\n",
    "\n",
    "### 8. Web Scraping\n",
    "\n",
    "One of the most significant sources of information for doing data science is the Web. The process of collecting and parsing raw data from the Web with an automated tool (crawler) is known as web scraping.\n",
    "\n",
    "### 9. Database Systems\n",
    "\n",
    "Most of the applications you’ll build in your career as a developer will interact with data in some way. This interaction commonly happens through a database management system (DBMS) that allows you to define, create, maintain, and control access to your database or databases.\n",
    "\n"
   ]
  },
  {
   "cell_type": "markdown",
   "metadata": {},
   "source": [
    "# Setup the Environment\n",
    "\n",
    "#### Virtual environment\n",
    "\n",
    "When working with Python projects, best practice is to have a separate virtual environment for each of them. \n",
    "Each virtual environment has its own Python binary. When you install some Python package into your virtual environment, it'll be installed only into that specific environment. This means that you can have different versions of a single Python package in different virtual environments in the same machine. Virtual environments are also useful if you need to use different Python versions in your projects."
   ]
  },
  {
   "cell_type": "markdown",
   "metadata": {},
   "source": [
    "## [`virtualenv`](https://virtualenv.pypa.io/en/latest/): Python library to setup virtual env"
   ]
  },
  {
   "cell_type": "markdown",
   "metadata": {},
   "source": [
    "#### Activating the virtual environment"
   ]
  },
  {
   "cell_type": "markdown",
   "metadata": {},
   "source": [
    "Windows: `path_to_virtual_env\\Scripts\\activate.bat`<br/>\n",
    "MacOS/Linux: `source /Users/tobliao/<name_of_venv>/bin/activate`"
   ]
  },
  {
   "cell_type": "markdown",
   "metadata": {},
   "source": [
    "#### Installing packages\n",
    "After activating the newly created virtual environment, you can install new packages by using `pip3`. For example if you want to install `pytest`:\n",
    "\n",
    "`pip3 install pytest`\n",
    "\n",
    "it'll be installed into path_to_virtual_env/lib/<python_version>/site-packages. Note that the path to site-packages maybe slightly different depending on the operating system you are using.\n",
    "\n",
    "You can list the installed packages and their versions by running:\n",
    "\n",
    "`pip3 freeze`"
   ]
  }
 ],
 "metadata": {
  "kernelspec": {
   "display_name": "Python 3 (ipykernel)",
   "language": "python",
   "name": "python3"
  },
  "language_info": {
   "codemirror_mode": {
    "name": "ipython",
    "version": 3
   },
   "file_extension": ".py",
   "mimetype": "text/x-python",
   "name": "python",
   "nbconvert_exporter": "python",
   "pygments_lexer": "ipython3",
   "version": "3.11.3"
  }
 },
 "nbformat": 4,
 "nbformat_minor": 4
}
